{
 "cells": [
  {
   "cell_type": "code",
   "execution_count": 1,
   "id": "793a5b8c",
   "metadata": {},
   "outputs": [],
   "source": [
    "import time\n",
    "import numpy as np"
   ]
  },
  {
   "cell_type": "code",
   "execution_count": 2,
   "id": "1be4e10f",
   "metadata": {},
   "outputs": [],
   "source": [
    "\n",
    "N = 10_000_000  # 반복 횟수\n",
    "REPEAT = 5      # 반복 횟수 (평균 내기)\n",
    "\n",
    "\n",
    "def benchmark(func, repeat=REPEAT):\n",
    "    times = []\n",
    "    for _ in range(repeat):\n",
    "        start = time.perf_counter()\n",
    "        func()\n",
    "        end = time.perf_counter()\n",
    "        times.append(end - start)\n",
    "    avg_time = sum(times) / repeat\n",
    "    return avg_time"
   ]
  },
  {
   "cell_type": "code",
   "execution_count": 3,
   "id": "a0a4bc15",
   "metadata": {},
   "outputs": [],
   "source": [
    "# 1. 스칼라 연산 (Python int)\n",
    "def scalar_python():\n",
    "    a = 3\n",
    "    b = 7\n",
    "    total = 0\n",
    "    for _ in range(N):\n",
    "        total += a * b // (a + 1)\n",
    "    return total\n",
    "\n",
    "# 2. 스칼라 연산 (NumPy int32)\n",
    "def scalar_numpy():\n",
    "    a = np.int32(3)\n",
    "    b = np.int32(7)\n",
    "    total = np.int32(0)\n",
    "    for _ in range(N):\n",
    "        total += a * b // (a + 1)\n",
    "    return total\n",
    "\n",
    "# 3. 벡터 연산 (NumPy vectorized)\n",
    "def vector_numpy():\n",
    "    a = np.full(N, 3, dtype=np.int32)\n",
    "    b = np.full(N, 7, dtype=np.int32)\n",
    "    result = a * b // (a + 1)\n",
    "    return result"
   ]
  },
  {
   "cell_type": "code",
   "execution_count": 4,
   "id": "ba663efe",
   "metadata": {},
   "outputs": [
    {
     "name": "stdout",
     "output_type": "stream",
     "text": [
      "[스칼라 연산 - Python int] 평균 시간: 0.354570초\n",
      "[스칼라 연산 - NumPy int32] 평균 시간: 0.824548초\n",
      "[벡터 연산 - NumPy 배열] 평균 시간: 0.040391초\n"
     ]
    }
   ],
   "source": [
    "print(f\"[스칼라 연산 - Python int] 평균 시간: {benchmark(scalar_python):.6f}초\")\n",
    "print(f\"[스칼라 연산 - NumPy int32] 평균 시간: {benchmark(scalar_numpy):.6f}초\")\n",
    "print(f\"[벡터 연산 - NumPy 배열] 평균 시간: {benchmark(vector_numpy):.6f}초\")"
   ]
  }
 ],
 "metadata": {
  "kernelspec": {
   "display_name": "Python 3",
   "language": "python",
   "name": "python3"
  },
  "language_info": {
   "codemirror_mode": {
    "name": "ipython",
    "version": 3
   },
   "file_extension": ".py",
   "mimetype": "text/x-python",
   "name": "python",
   "nbconvert_exporter": "python",
   "pygments_lexer": "ipython3",
   "version": "3.12.4"
  }
 },
 "nbformat": 4,
 "nbformat_minor": 5
}
