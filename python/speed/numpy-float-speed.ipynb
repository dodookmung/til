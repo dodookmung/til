{
 "cells": [
  {
   "cell_type": "code",
   "execution_count": 1,
   "id": "ba1ac1b7",
   "metadata": {},
   "outputs": [],
   "source": [
    "import time\n",
    "import numpy as np\n",
    "\n",
    "N = 10_000_000  # 연산 반복 횟수\n",
    "REPEAT = 5      # 평균 내기 위한 반복 횟수\n",
    "\n",
    "def benchmark(func, repeat=REPEAT):\n",
    "    times = []\n",
    "    for _ in range(repeat):\n",
    "        start = time.perf_counter()\n",
    "        func()\n",
    "        end = time.perf_counter()\n",
    "        times.append(end - start)\n",
    "    return sum(times) / repeat"
   ]
  },
  {
   "cell_type": "code",
   "execution_count": 2,
   "id": "1d4a97b5",
   "metadata": {},
   "outputs": [],
   "source": [
    "# 1. Python float\n",
    "def scalar_python_float():\n",
    "    a = 3.0\n",
    "    b = 7.0\n",
    "    total = 0.0\n",
    "    for _ in range(N):\n",
    "        total += a * b / (a + 1.0)\n",
    "    return total\n",
    "\n",
    "# 2. NumPy float32\n",
    "def scalar_numpy_float32():\n",
    "    a = np.float32(3.0)\n",
    "    b = np.float32(7.0)\n",
    "    total = np.float32(0.0)\n",
    "    for _ in range(N):\n",
    "        total += a * b / (a + 1.0)\n",
    "    return total\n",
    "\n",
    "# 3. NumPy float64\n",
    "def scalar_numpy_float64():\n",
    "    a = np.float64(3.0)\n",
    "    b = np.float64(7.0)\n",
    "    total = np.float64(0.0)\n",
    "    for _ in range(N):\n",
    "        total += a * b / (a + 1.0)\n",
    "    return total\n",
    "\n",
    "# 4. NumPy 벡터 연산 (float32)\n",
    "def vector_numpy_float32():\n",
    "    a = np.full(N, 3.0, dtype=np.float32)\n",
    "    b = np.full(N, 7.0, dtype=np.float32)\n",
    "    result = a * b / (a + 1.0)\n",
    "    return result"
   ]
  },
  {
   "cell_type": "code",
   "execution_count": 3,
   "id": "d4bdcd9d",
   "metadata": {},
   "outputs": [
    {
     "name": "stdout",
     "output_type": "stream",
     "text": [
      "[Python float] 평균 시간: 0.385416초\n",
      "[NumPy float32 (스칼라)] 평균 시간: 1.351778초\n",
      "[NumPy float64 (스칼라)] 평균 시간: 1.286784초\n",
      "[NumPy float32 (벡터연산)] 평균 시간: 0.029835초\n"
     ]
    }
   ],
   "source": [
    "print(f\"[Python float] 평균 시간: {benchmark(scalar_python_float):.6f}초\")\n",
    "print(f\"[NumPy float32 (스칼라)] 평균 시간: {benchmark(scalar_numpy_float32):.6f}초\")\n",
    "print(f\"[NumPy float64 (스칼라)] 평균 시간: {benchmark(scalar_numpy_float64):.6f}초\")\n",
    "print(f\"[NumPy float32 (벡터연산)] 평균 시간: {benchmark(vector_numpy_float32):.6f}초\")"
   ]
  }
 ],
 "metadata": {
  "kernelspec": {
   "display_name": "Python 3",
   "language": "python",
   "name": "python3"
  },
  "language_info": {
   "codemirror_mode": {
    "name": "ipython",
    "version": 3
   },
   "file_extension": ".py",
   "mimetype": "text/x-python",
   "name": "python",
   "nbconvert_exporter": "python",
   "pygments_lexer": "ipython3",
   "version": "3.12.4"
  }
 },
 "nbformat": 4,
 "nbformat_minor": 5
}
